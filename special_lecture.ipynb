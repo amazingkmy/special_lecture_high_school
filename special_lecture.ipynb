{
 "cells": [
  {
   "cell_type": "markdown",
   "id": "1dad6713-6592-4dd2-ac77-964418551898",
   "metadata": {},
   "source": [
    "# 2차시 Fastapi를 이용한 간단한 API 만들기\n",
    "\n",
    "### 이번 차시 목표\n",
    "##### 1. jupyter notebook에 대한 사용법에 대해 익힌다.\n",
    "##### 2. Fastapi에 대해서 간단한 예시를 작성해본다.\n",
    "##### 3. Fastapi를 이용해서 API를 실행해보고 테스트해본다."
   ]
  },
  {
   "cell_type": "raw",
   "id": "8cba6479-e771-4174-8831-776d6838ffbb",
   "metadata": {},
   "source": [
    "1-1. Jupyter notebook?\n",
    "   Jupyter notebook은 오픈소스 기반의 웹 기반 플랫폼으로 파이썬뿐만 아니라 다양한 언어의 코드를 작성하고 실행해볼 수 있다.\n",
    "   현업에서는 메인 업무를 위해서 다양한 실험 및 테스트를 수행할 때 jupyter를 많이 활용한다. 또한, 어떠한 방법으로 문제를 해결할지에 대해서 많은 가정을 테스트해야 하는데, 이를 jupyter로 많이 활용한다. \n",
    "1-2. 사용법\n",
    "   간단합니다. 코드를 치고 shift+enter를 누르면 해당라인의 코드가 실행됩니다. 실행이 잘 된다면 왼쪽의 [ ] 칸에 숫자가 표기되고, 잘못 입력했다면 오류가 뜹니다. 오류가 뜬 CELL은 다시 코드를 수정해서 shift+enter를 누르면 코드가 재실행됩니다."
   ]
  },
  {
   "cell_type": "code",
   "execution_count": 3,
   "id": "f8f6442f-311e-400c-a4b0-ad0cb2a90296",
   "metadata": {},
   "outputs": [],
   "source": [
    "a = 1"
   ]
  },
  {
   "cell_type": "code",
   "execution_count": 4,
   "id": "b8188cc0-fe01-45b9-9d50-eed63600f086",
   "metadata": {},
   "outputs": [],
   "source": [
    "b = 1"
   ]
  },
  {
   "cell_type": "code",
   "execution_count": 5,
   "id": "4cb2a250-fa18-4cbb-9523-09e795293624",
   "metadata": {},
   "outputs": [
    {
     "data": {
      "text/plain": [
       "2"
      ]
     },
     "execution_count": 5,
     "metadata": {},
     "output_type": "execute_result"
    }
   ],
   "source": [
    "a+b"
   ]
  },
  {
   "cell_type": "code",
   "execution_count": 6,
   "id": "c7a2410f-94f9-41e0-addf-57e129cdbfc6",
   "metadata": {},
   "outputs": [
    {
     "name": "stdout",
     "output_type": "stream",
     "text": [
      "hello world!\n"
     ]
    }
   ],
   "source": [
    "print(\"hello world!\")"
   ]
  },
  {
   "cell_type": "raw",
   "id": "bea40be3-f3d4-4250-99a2-788f5ac1d3a1",
   "metadata": {},
   "source": [
    "2-1. FastAPI란?\n",
    "FastAPI는 현대적이고, 빠르며(고성능), 파이썬 표준 타입 힌트에 기초한 Python3.6+의 API를 빌드하기 위한 웹 프레임워크입니다.\n",
    "빠름: (Starlette과 Pydantic 덕분에) NodeJS 및 Go와 대등할 정도로 매우 높은 성능. 사용 가능한 가장 빠른 파이썬 프레임워크 중 하나.\n",
    "빠른 코드 작성: 약 200%에서 300%까지 기능 개발 속도 증가. *\n",
    "적은 버그: 사람(개발자)에 의한 에러 약 40% 감소. *\n",
    "직관적: 훌륭한 편집기 지원. 모든 곳에서 자동완성. 적은 디버깅 시간.\n",
    "쉬움: 쉽게 사용하고 배우도록 설계. 적은 문서 읽기 시간.\n",
    "짧음: 코드 중복 최소화. 각 매개변수 선언의 여러 기능. 적은 버그.\n",
    "견고함: 준비된 프로덕션 용 코드를 얻으십시오. 자동 대화형 문서와 함께.\n",
    "표준 기반: API에 대한 (완전히 호환되는) 개방형 표준 기반: OpenAPI (이전에 Swagger로 알려졌던) 및 JSON 스키마.  출처 : https://fastapi.tiangolo.com/ko/\n",
    "\n",
    "현업에서는 Python은 그렇게 빠른 언어는 아닙니다만, Python 기반의 API 작업을 수행할 때, 쉽고 빠르고 동시 처리를 해주는 대표적인 패키지라고 보시면 될 것 같습니다.\n",
    "\n",
    "2-2. API란?\n",
    "API는 정의 및 프로토콜 집합을 사용하여 두 소프트웨어 구성 요소가 서로 통신할 수 있게 하는 메커니즘입니다. 예를 들어, 기상청의 소프트웨어 시스템에는 일일 기상 데이터가 들어 있습니다. 휴대폰의 날씨 앱은 API를 통해 이 시스템과 ‘대화’하여 휴대폰에 매일 최신 날씨 정보를 표시합니다. API는 Application Programming Interface(애플리케이션 프로그램 인터페이스)의 줄임말입니다. API의 맥락에서 애플리케이션이라는 단어는 고유한 기능을 가진 모든 소프트웨어를 나타냅니다. 인터페이스는 두 애플리케이션 간의 서비스 계약이라고 할 수 있습니다. 이 계약은 요청과 응답을 사용하여 두 애플리케이션이 서로 통신하는 방법을 정의합니다. API 문서에는 개발자가 이러한 요청과 응답을 구성하는 방법에 대한 정보가 들어 있습니다. 출처 : https://aws.amazon.com/ko/what-is/api/\n",
    "\n",
    "사용자 <-> API 서버\n",
    "     데이터\n",
    "\n",
    "2-3. Python이 느린 언어인가?\n",
    "맞습니다. 매우 빠른 언어는 아닙니다. 현업에서의 Python은 빠른 편은 아니지만 High Level(c언어를 감싸고 있는 언어)의 언어라서 개발자가 편리하게 사용할 수 있는 막강한 강점이 있어서 아직도 많이 사랑받고 있는 언어입니다.\n",
    "\n",
    "2-4. 동시성 처리는 무엇인가?\n",
    "이 개념을 이해하기에는 짧은 시간에 강의하기 어려울 것 같습니다. 간결하게 설명한다면, 코드가 진행되는 동안 어떤 코드는 결과가 늦게 산출이 될 텐데, 그 때까지 기다리지 않고 다음 코드를 수행하고 있는 것입니다. "
   ]
  },
  {
   "cell_type": "code",
   "execution_count": 7,
   "id": "c23443a8-2753-4c30-abaf-71575b56acdd",
   "metadata": {},
   "outputs": [],
   "source": [
    "# Fastapi를 실행하기 위해서는 항상 맨 위에 이 것을 작성해야 합니다\n",
    "from fastapi import FastAPI\n",
    "app=FastAPI()"
   ]
  },
  {
   "cell_type": "code",
   "execution_count": 8,
   "id": "3081f547-8089-4749-90e8-62000c6d0128",
   "metadata": {},
   "outputs": [],
   "source": [
    "# 프로그래밍의 국룰인 hello world를 찍어봅시다.\n",
    "\n",
    "@app.get(\"/\") #원하는 주소를 만들 수 있습니다.\n",
    "def root():\n",
    "    return \"Hello World!!\" # 원하는 값을 화면에 보여줄 수 있습니다."
   ]
  },
  {
   "cell_type": "code",
   "execution_count": 14,
   "id": "4171636d-551e-4128-8225-e8ed43677f30",
   "metadata": {},
   "outputs": [
    {
     "name": "stderr",
     "output_type": "stream",
     "text": [
      "INFO:     Started server process [36]\n",
      "INFO:     Waiting for application startup.\n",
      "INFO:     Application startup complete.\n",
      "INFO:     Uvicorn running on http://0.0.0.0:18000 (Press CTRL+C to quit)\n"
     ]
    },
    {
     "name": "stdout",
     "output_type": "stream",
     "text": [
      "INFO:     172.17.0.1:36492 - \"GET / HTTP/1.1\" 200 OK\n",
      "INFO:     172.17.0.1:36492 - \"GET /favicon.ico HTTP/1.1\" 404 Not Found\n"
     ]
    },
    {
     "name": "stderr",
     "output_type": "stream",
     "text": [
      "INFO:     Shutting down\n",
      "INFO:     Waiting for application shutdown.\n",
      "INFO:     Application shutdown complete.\n",
      "INFO:     Finished server process [36]\n"
     ]
    }
   ],
   "source": [
    "# 이제 API서버를 실행해봅시다\n",
    "# 서버를 종료하기 위해서는 상단의 정지 버튼을 누릅니다\n",
    "import nest_asyncio\n",
    "import uvicorn\n",
    "\n",
    "if __name__ == \"__main__\":\n",
    "    nest_asyncio.apply()\n",
    "    uvicorn.run(app, host=\"0.0.0.0\", port=18000)"
   ]
  },
  {
   "cell_type": "code",
   "execution_count": 15,
   "id": "095de810-97bf-4461-af69-21daa18e0479",
   "metadata": {},
   "outputs": [],
   "source": [
    "# 프로그래밍의 국룰인 hello world를 찍어봅시다.\n",
    "\n",
    "@app.get(\"/plus\") #원하는 주소를 만들 수 있습니다.\n",
    "def plus(a: int = 0, b: int = 1):\n",
    "    return a+b # 원하는 값을 화면에 보여줄 수 있습니다."
   ]
  },
  {
   "cell_type": "code",
   "execution_count": 17,
   "id": "132642a0-848e-4418-a072-757a87b84871",
   "metadata": {},
   "outputs": [
    {
     "name": "stderr",
     "output_type": "stream",
     "text": [
      "INFO:     Started server process [36]\n",
      "INFO:     Waiting for application startup.\n",
      "INFO:     Application startup complete.\n",
      "INFO:     Uvicorn running on http://0.0.0.0:18000 (Press CTRL+C to quit)\n",
      "INFO:     Shutting down\n",
      "INFO:     Waiting for application shutdown.\n",
      "INFO:     Application shutdown complete.\n",
      "INFO:     Finished server process [36]\n"
     ]
    }
   ],
   "source": [
    "# 이제 API서버를 실행해봅시다\n",
    "# 서버를 종료하기 위해서는 상단의 정지 버튼을 누릅니다\n",
    "# http://localhost:18000/plus?a=10&b=20\n",
    "# http://localhost:18000/plus\n",
    "import nest_asyncio\n",
    "import uvicorn\n",
    "\n",
    "if __name__ == \"__main__\":\n",
    "    nest_asyncio.apply()\n",
    "    uvicorn.run(app, host=\"0.0.0.0\", port=18000)"
   ]
  },
  {
   "cell_type": "code",
   "execution_count": 18,
   "id": "27926815-20a2-46ca-b013-bfca8445622c",
   "metadata": {},
   "outputs": [],
   "source": [
    "@app.get(\"/name\") #원하는 주소를 만들 수 있습니다.\n",
    "def name(name:str=\"\"):\n",
    "    if \"정\" in name:\n",
    "        return \"당신의 이름에는 정 자가 있습니다\"\n",
    "    else:\n",
    "        return \"당신의 이름에는 정 자가 없습니다\""
   ]
  },
  {
   "cell_type": "code",
   "execution_count": 19,
   "id": "a5142970-fcb9-4cc8-9dc8-40c6d67e0e09",
   "metadata": {},
   "outputs": [
    {
     "name": "stderr",
     "output_type": "stream",
     "text": [
      "INFO:     Started server process [36]\n",
      "INFO:     Waiting for application startup.\n",
      "INFO:     Application startup complete.\n",
      "INFO:     Uvicorn running on http://0.0.0.0:18000 (Press CTRL+C to quit)\n"
     ]
    },
    {
     "name": "stdout",
     "output_type": "stream",
     "text": [
      "INFO:     172.17.0.1:45810 - \"GET /name?name=%EC%A0%95%EC%88%98%EC%B0%AC HTTP/1.1\" 200 OK\n"
     ]
    },
    {
     "name": "stderr",
     "output_type": "stream",
     "text": [
      "INFO:     Shutting down\n",
      "INFO:     Waiting for application shutdown.\n",
      "INFO:     Application shutdown complete.\n",
      "INFO:     Finished server process [36]\n"
     ]
    }
   ],
   "source": [
    "# 이제 API서버를 실행해봅시다\n",
    "# 서버를 종료하기 위해서는 상단의 정지 버튼을 누릅니다\n",
    "# http://localhost:18000/name?name=정수찬\n",
    "import nest_asyncio\n",
    "import uvicorn\n",
    "\n",
    "if __name__ == \"__main__\":\n",
    "    nest_asyncio.apply()\n",
    "    uvicorn.run(app, host=\"0.0.0.0\", port=18000)"
   ]
  },
  {
   "cell_type": "markdown",
   "id": "34043676-061f-4316-85a4-0181f5cbd230",
   "metadata": {},
   "source": [
    "## 우리가 사용하는 API는 REST API 기반\n",
    "#### REST API란?\n",
    "\"representational State Transfer\"의 약자\r\n",
    "\r\n",
    "웹에 존재하는 모든 자원(이미지, 동영상, DB)에 고유한 URL을 부여하여 활용하는 것을 의미한.\r\n",
    "\r\n",
    "자원을 정의하고 자원에 대한 주소를 지정하는 방법론이다. 자원의 이름(자원의 표현)으로 구분하여 해당 자원의 상태(정보)를 주고 받는 모든 것을 의\n",
    "\n",
    "#### REST API 종류\n",
    "DELETE, GET, POST, PATCH, PUT 이 있으며, 이 시간에는 GET과 POST을 사용할 것.\n",
    "\n",
    "#### 방금까지 GET을 사용했는데 불편한 점은 없었는가?\n",
    "GET은 URL (주소)에 모든 값을 전부 다 써야 한다. 이는 추후에 해킹을 당할 수 있는 여지가 있으며, URL을 기억해야하기 때문에 어렵다. 현업에서는 GET은 매우 단순한 API에 사용하고 이외의 경우는 POST를 많이 사용한다.\n",
    "\n",
    "#### JSON을 이용해서 POST 통신을 수행할 것. JSON이란?\n",
    "key:value 구성으로 JavaScript Object Notation라는 의미의 축약어로 데이터를 저장하거나 전송할 때 많이 사용되는 경량의 DATA 교환 형식입니다. 현업에서도 많이 사용합니다. python에서 dict와 유사합니다.미한다."
   ]
  },
  {
   "cell_type": "code",
   "execution_count": 21,
   "id": "e4ba839d-443b-47f2-9c90-1de55ff29d70",
   "metadata": {},
   "outputs": [
    {
     "name": "stdout",
     "output_type": "stream",
     "text": [
      "{'name': 'myungyunkang', 'age': 34}\n"
     ]
    }
   ],
   "source": [
    "student={\"name\":\"myungyunkang\",\"age\":34} # python dict 형태 dict = json이라고 부르진 않지만 구조가 동일합니다.\n",
    "\n",
    "print(student)"
   ]
  },
  {
   "cell_type": "code",
   "execution_count": null,
   "id": "2b4f69f0-fb01-487e-b9db-fb7d86805fb8",
   "metadata": {},
   "outputs": [],
   "source": [
    "@app.post(\"/student\") #원하는 주소를 만들 수 있습니다.\n",
    "def name():"
   ]
  },
  {
   "cell_type": "markdown",
   "id": "8f8f4ea6-f9bd-4d08-8c4c-bf9b25f91fb1",
   "metadata": {},
   "source": [
    "## 간단한 AI 엔진 실행하기"
   ]
  },
  {
   "cell_type": "code",
   "execution_count": 24,
   "id": "5fe4cc8c-d211-4960-b418-5deb34ef32d2",
   "metadata": {},
   "outputs": [],
   "source": [
    "from transformers import AutoTokenizer, AutoModelForCausalLM"
   ]
  },
  {
   "cell_type": "code",
   "execution_count": 25,
   "id": "568f9c29-d016-4066-a50f-64019d3bd3f2",
   "metadata": {},
   "outputs": [
    {
     "data": {
      "application/vnd.jupyter.widget-view+json": {
       "model_id": "6c17518d36d74b86937f02c35e31683a",
       "version_major": 2,
       "version_minor": 0
      },
      "text/plain": [
       "config.json:   0%|          | 0.00/640 [00:00<?, ?B/s]"
      ]
     },
     "metadata": {},
     "output_type": "display_data"
    },
    {
     "data": {
      "application/vnd.jupyter.widget-view+json": {
       "model_id": "a9f55039b1974c62929f350992c02a77",
       "version_major": 2,
       "version_minor": 0
      },
      "text/plain": [
       "model.safetensors.index.json:   0%|          | 0.00/31.6k [00:00<?, ?B/s]"
      ]
     },
     "metadata": {},
     "output_type": "display_data"
    },
    {
     "data": {
      "application/vnd.jupyter.widget-view+json": {
       "model_id": "e09462616b6e46cdbe9ca6678440376f",
       "version_major": 2,
       "version_minor": 0
      },
      "text/plain": [
       "Downloading shards:   0%|          | 0/3 [00:00<?, ?it/s]"
      ]
     },
     "metadata": {},
     "output_type": "display_data"
    },
    {
     "data": {
      "application/vnd.jupyter.widget-view+json": {
       "model_id": "2836e9c723e14dfaa0818830cb874448",
       "version_major": 2,
       "version_minor": 0
      },
      "text/plain": [
       "model-00001-of-00003.safetensors:   0%|          | 0.00/1.00G [00:00<?, ?B/s]"
      ]
     },
     "metadata": {},
     "output_type": "display_data"
    },
    {
     "data": {
      "application/vnd.jupyter.widget-view+json": {
       "model_id": "8f75d139219f47e5892af3210d089353",
       "version_major": 2,
       "version_minor": 0
      },
      "text/plain": [
       "model-00002-of-00003.safetensors:   0%|          | 0.00/1.02G [00:00<?, ?B/s]"
      ]
     },
     "metadata": {},
     "output_type": "display_data"
    },
    {
     "data": {
      "application/vnd.jupyter.widget-view+json": {
       "model_id": "0305dde28e554a0085c2637f1da31f0b",
       "version_major": 2,
       "version_minor": 0
      },
      "text/plain": [
       "model-00003-of-00003.safetensors:   0%|          | 0.00/748M [00:00<?, ?B/s]"
      ]
     },
     "metadata": {},
     "output_type": "display_data"
    },
    {
     "data": {
      "application/vnd.jupyter.widget-view+json": {
       "model_id": "cc7204fa3ddc4e6bb0f0335a3af7fe6c",
       "version_major": 2,
       "version_minor": 0
      },
      "text/plain": [
       "Loading checkpoint shards:   0%|          | 0/3 [00:00<?, ?it/s]"
      ]
     },
     "metadata": {},
     "output_type": "display_data"
    },
    {
     "name": "stderr",
     "output_type": "stream",
     "text": [
      "/opt/conda/lib/python3.11/site-packages/transformers/modeling_utils.py:3903: RuntimeWarning: coroutine 'Server.serve' was never awaited\n",
      "  gc.collect()\n",
      "RuntimeWarning: Enable tracemalloc to get the object allocation traceback\n"
     ]
    },
    {
     "data": {
      "application/vnd.jupyter.widget-view+json": {
       "model_id": "a680e12a6651401abb29adeed18d7309",
       "version_major": 2,
       "version_minor": 0
      },
      "text/plain": [
       "generation_config.json:   0%|          | 0.00/111 [00:00<?, ?B/s]"
      ]
     },
     "metadata": {},
     "output_type": "display_data"
    }
   ],
   "source": [
    "model=AutoModelForCausalLM.from_pretrained(\"EleutherAI/polyglot-ko-1.3b\")"
   ]
  },
  {
   "cell_type": "code",
   "execution_count": 26,
   "id": "b26d5d91-f8e0-4bbd-9b07-5d1878eaa514",
   "metadata": {},
   "outputs": [
    {
     "data": {
      "application/vnd.jupyter.widget-view+json": {
       "model_id": "5e5814a6b308482591d3c400b7a94190",
       "version_major": 2,
       "version_minor": 0
      },
      "text/plain": [
       "tokenizer_config.json:   0%|          | 0.00/164 [00:00<?, ?B/s]"
      ]
     },
     "metadata": {},
     "output_type": "display_data"
    },
    {
     "data": {
      "application/vnd.jupyter.widget-view+json": {
       "model_id": "6a386714c80d45f7acb19469b83b4665",
       "version_major": 2,
       "version_minor": 0
      },
      "text/plain": [
       "tokenizer.json:   0%|          | 0.00/1.65M [00:00<?, ?B/s]"
      ]
     },
     "metadata": {},
     "output_type": "display_data"
    },
    {
     "data": {
      "application/vnd.jupyter.widget-view+json": {
       "model_id": "062040f352cf40339dc454095172e373",
       "version_major": 2,
       "version_minor": 0
      },
      "text/plain": [
       "special_tokens_map.json:   0%|          | 0.00/185 [00:00<?, ?B/s]"
      ]
     },
     "metadata": {},
     "output_type": "display_data"
    }
   ],
   "source": [
    "tokenizer=AutoTokenizer.from_pretrained(\"EleutherAI/polyglot-ko-1.3b\")"
   ]
  },
  {
   "cell_type": "code",
   "execution_count": 32,
   "id": "3301f023-2e4e-4635-b3fd-4f3c7a4da4a5",
   "metadata": {},
   "outputs": [
    {
     "name": "stdout",
     "output_type": "stream",
     "text": [
      "{'input_ids': tensor([[13417,   284,  1934,   480,  2287,   301]]), 'token_type_ids': tensor([[0, 0, 0, 0, 0, 0]]), 'attention_mask': tensor([[1, 1, 1, 1, 1, 1]])}\n"
     ]
    }
   ],
   "source": [
    "testdata=\"안녕하세요 제 소개를\"\n",
    "input_token=tokenizer(testdata, return_tensors='pt')\n",
    "print(input_token)"
   ]
  },
  {
   "cell_type": "code",
   "execution_count": 35,
   "id": "ecd44e2e-74bc-45ce-b245-8cd52e94d1b7",
   "metadata": {},
   "outputs": [
    {
     "name": "stderr",
     "output_type": "stream",
     "text": [
      "The attention mask and the pad token id were not set. As a consequence, you may observe unexpected behavior. Please pass your input's `attention_mask` to obtain reliable results.\n",
      "Setting `pad_token_id` to `eos_token_id`:2 for open-end generation.\n",
      "/opt/conda/lib/python3.11/site-packages/transformers/generation/utils.py:1273: UserWarning: Using the model-agnostic default `max_length` (=20) to control the generation length. We recommend setting `max_new_tokens` to control the maximum length of the generation.\n",
      "  warnings.warn(\n"
     ]
    }
   ],
   "source": [
    "output_token=model.generate(input_token.input_ids)"
   ]
  },
  {
   "cell_type": "code",
   "execution_count": 36,
   "id": "fdfd1a32-c1e0-49b2-9823-6aacd81efdb0",
   "metadata": {},
   "outputs": [],
   "source": [
    "result_string=tokenizer.batch_decode(output_token)[0]"
   ]
  },
  {
   "cell_type": "code",
   "execution_count": 37,
   "id": "bd82c64f-7801-4a82-b416-bd956387e3e1",
   "metadata": {},
   "outputs": [
    {
     "data": {
      "text/plain": [
       "'안녕하세요 제 소개를 하자면 저는 현재 고3이고, 현재는 수시를'"
      ]
     },
     "execution_count": 37,
     "metadata": {},
     "output_type": "execute_result"
    }
   ],
   "source": [
    "result_string"
   ]
  },
  {
   "cell_type": "markdown",
   "id": "5701acae-dbe2-465f-ba18-b8a252e7e55b",
   "metadata": {},
   "source": [
    "## FastAPI + 생성형 AI\n",
    "#### FastAPI 와 AI 함수를 혼합해서 생성형 AI API를 만들어봅시다"
   ]
  },
  {
   "cell_type": "code",
   "execution_count": null,
   "id": "55dc6c84-909a-482e-9467-1572c6508845",
   "metadata": {},
   "outputs": [],
   "source": []
  }
 ],
 "metadata": {
  "kernelspec": {
   "display_name": "Python 3 (ipykernel)",
   "language": "python",
   "name": "python3"
  },
  "language_info": {
   "codemirror_mode": {
    "name": "ipython",
    "version": 3
   },
   "file_extension": ".py",
   "mimetype": "text/x-python",
   "name": "python",
   "nbconvert_exporter": "python",
   "pygments_lexer": "ipython3",
   "version": "3.11.5"
  }
 },
 "nbformat": 4,
 "nbformat_minor": 5
}
